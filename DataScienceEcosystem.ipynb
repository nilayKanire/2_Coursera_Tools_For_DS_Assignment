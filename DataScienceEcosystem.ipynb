{
 "cells": [
  {
   "cell_type": "markdown",
   "id": "765692ee",
   "metadata": {},
   "source": [
    "<h1>Data Science Tools and Ecosystem<h1>"
   ]
  },
  {
   "cell_type": "markdown",
   "id": "8d4dbd82",
   "metadata": {},
   "source": [
    "This notebook summarizes key data science languages,libraries, tools, and basic arithmetic operations."
   ]
  },
  {
   "cell_type": "markdown",
   "id": "762b9600",
   "metadata": {},
   "source": [
    "Some of the popular languages that Data Scientists use are:\n",
    "<ol>\n",
    "    <li> Python</li>\n",
    "    <li> R </li>\n",
    "    <li>SQL</li>\n",
    "    <li>Julia</li>\n",
    "</ol>"
   ]
  },
  {
   "cell_type": "markdown",
   "id": "308825b7",
   "metadata": {},
   "source": [
    "Some of the commonly used libraries used by Data Scientists include:\n",
    "\n",
    "    1. Pandas\n",
    "    2. NumPy\n",
    "    3. Scikit-learn\n",
    "    4. TensorFlow\n"
   ]
  },
  {
   "cell_type": "markdown",
   "id": "75388be4",
   "metadata": {},
   "source": [
    "Data Science Tools -\n",
    "<table>\n",
    "    <tr> \n",
    "        <th>Tools</th>\n",
    "    </tr>\n",
    "    <tr>\n",
    "        <td>Jupyter</td>\n",
    "    </tr>\n",
    "    <tr>\n",
    "        <td>VS Code</td>\n",
    "    </tr>\n",
    "    <tr>\n",
    "        <td>Git</td>\n",
    "    </tr>\n",
    "</table>"
   ]
  },
  {
   "cell_type": "markdown",
   "id": "9a703afe",
   "metadata": {},
   "source": [
    "<h3> Below are a few examples of evaluating arithmetic expressions in Python </h3>\n"
   ]
  },
  {
   "cell_type": "code",
   "execution_count": 7,
   "id": "c2492cdb",
   "metadata": {},
   "outputs": [
    {
     "data": {
      "text/plain": [
       "17"
      ]
     },
     "execution_count": 7,
     "metadata": {},
     "output_type": "execute_result"
    }
   ],
   "source": [
    "# Exercise 8 - Create a code cell to multiply and add numbers. (2 pts)\n",
    "\n",
    "(3 * 4) + 5  # This a simple arithmetic expression to mutiply then add integers"
   ]
  },
  {
   "cell_type": "code",
   "execution_count": 3,
   "id": "92605aa7",
   "metadata": {},
   "outputs": [
    {
     "name": "stdout",
     "output_type": "stream",
     "text": [
      "3h 20m\n"
     ]
    }
   ],
   "source": [
    "# Exercise 9 - Create a code cell to convert minutes to hours. (2 pts)\n",
    "\n",
    "minutes = 200\n",
    "hours = minutes // 60           # This will convert 200 minutes to hours by diving by 60.\n",
    "remaining_minutes = minutes % 60\n",
    "print(f\"{hours}h {remaining_minutes}m\")  "
   ]
  },
  {
   "cell_type": "markdown",
   "id": "c71836f8",
   "metadata": {},
   "source": [
    "<b>Objectives:</b>\n",
    "<ul>\n",
    "    <li> List data science languages </li>\n",
    "     <li>Summarize key libraries</li>\n",
    "     <li>Demonstrate arithmetic operations</li>\n",
    "</ul>"
   ]
  },
  {
   "cell_type": "markdown",
   "id": "0b742b3a",
   "metadata": {},
   "source": [
    "<h2> Author </h2>\n",
    "\n",
    "Nilay Kanire"
   ]
  }
 ],
 "metadata": {
  "kernelspec": {
   "display_name": "Python 3 (ipykernel)",
   "language": "python",
   "name": "python3"
  },
  "language_info": {
   "codemirror_mode": {
    "name": "ipython",
    "version": 3
   },
   "file_extension": ".py",
   "mimetype": "text/x-python",
   "name": "python",
   "nbconvert_exporter": "python",
   "pygments_lexer": "ipython3",
   "version": "3.9.7"
  }
 },
 "nbformat": 4,
 "nbformat_minor": 5
}
