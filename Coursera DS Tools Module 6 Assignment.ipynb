{
 "cells": [
  {
   "cell_type": "code",
   "execution_count": 12,
   "id": "368e7d8c",
   "metadata": {},
   "outputs": [],
   "source": [
    "# Exercise 2 - Create a markdown cell with the title of the notebook. (1 pt)\n",
    "\n",
    "# Introduction to Data Science Tools"
   ]
  },
  {
   "cell_type": "code",
   "execution_count": 13,
   "id": "94efc612",
   "metadata": {},
   "outputs": [],
   "source": [
    "#Exercise 3 - Create a markdown cell for an introduction. (1 pt)\n",
    "\n",
    "# This notebook summarizes key data science languages, libraries, tools, and basic arithmetic operations."
   ]
  },
  {
   "cell_type": "code",
   "execution_count": 14,
   "id": "324fa67a",
   "metadata": {},
   "outputs": [
    {
     "data": {
      "text/plain": [
       "'\\n- Python\\n- R\\n- SQL\\n- Julia\\n'"
      ]
     },
     "execution_count": 14,
     "metadata": {},
     "output_type": "execute_result"
    }
   ],
   "source": [
    "# Exercise 4 - Create a markdown cell to list data science languages. (3 pts)\n",
    "'''\n",
    "- Python\n",
    "- R\n",
    "- SQL\n",
    "- Julia\n",
    "'''"
   ]
  },
  {
   "cell_type": "code",
   "execution_count": 15,
   "id": "55f7d833",
   "metadata": {},
   "outputs": [
    {
     "data": {
      "text/plain": [
       "'\\n- Pandas\\n- NumPy\\n- Scikit-learn\\n- TensorFlow\\n'"
      ]
     },
     "execution_count": 15,
     "metadata": {},
     "output_type": "execute_result"
    }
   ],
   "source": [
    "#Exercise 5 - Create a markdown cell to list data science libraries. (3 pts)\n",
    "'''\n",
    "- Pandas\n",
    "- NumPy\n",
    "- Scikit-learn\n",
    "- TensorFlow\n",
    "'''"
   ]
  },
  {
   "cell_type": "code",
   "execution_count": 16,
   "id": "ed14f6a5",
   "metadata": {},
   "outputs": [
    {
     "data": {
      "text/plain": [
       "'\\n| Tool          | Purpose                  |\\n|---------------|--------------------------|\\n| Jupyter       | Interactive coding       |\\n| VS Code       | Code editing             |\\n| Git           | Version control          |\\n'"
      ]
     },
     "execution_count": 16,
     "metadata": {},
     "output_type": "execute_result"
    }
   ],
   "source": [
    "# Exercise 6 - Create a markdown cell with a table of Data Science tools. (3 pts)\n",
    "'''\n",
    "| Tool          | Purpose                  |\n",
    "|---------------|--------------------------|\n",
    "| Jupyter       | Interactive coding       |\n",
    "| VS Code       | Code editing             |\n",
    "| Git           | Version control          |\n",
    "'''"
   ]
  },
  {
   "cell_type": "code",
   "execution_count": 17,
   "id": "84d76ffc",
   "metadata": {},
   "outputs": [
    {
     "name": "stdout",
     "output_type": "stream",
     "text": [
      "8\n",
      "6\n",
      "12\n",
      "5.0\n",
      "7\n",
      "1\n",
      "9\n"
     ]
    }
   ],
   "source": [
    "# Exercise 7 - Create a markdown cell introducing arithmetic expression examples. (1 pt)\n",
    "\n",
    "# Addition\n",
    "print(5 + 3)   # Output: 8\n",
    "\n",
    "# Subtraction\n",
    "print(10 - 4)  # Output: 6\n",
    "\n",
    "# Multiplication\n",
    "print(2 * 6)   # Output: 12\n",
    "\n",
    "# Division\n",
    "print(15 / 3)  # Output: 5.0 (returns float)\n",
    "\n",
    "# Floor Division (no remainder)\n",
    "print(15 // 2) # Output: 7 (drops decimal)\n",
    "\n",
    "# Modulus (remainder)\n",
    "print(15 % 2)  # Output: 1\n",
    "\n",
    "# Exponentiation\n",
    "print(3 ** 2)  # Output: 9 (3 squared)\n"
   ]
  },
  {
   "cell_type": "code",
   "execution_count": 18,
   "id": "c2492cdb",
   "metadata": {},
   "outputs": [
    {
     "data": {
      "text/plain": [
       "17"
      ]
     },
     "execution_count": 18,
     "metadata": {},
     "output_type": "execute_result"
    }
   ],
   "source": [
    "# Exercise 8 - Create a code cell to multiply and add numbers. (2 pts)\n",
    "\n",
    "(3 * 4) + 5  # Output: 17"
   ]
  },
  {
   "cell_type": "code",
   "execution_count": 19,
   "id": "92605aa7",
   "metadata": {},
   "outputs": [
    {
     "name": "stdout",
     "output_type": "stream",
     "text": [
      "2h 30m\n"
     ]
    }
   ],
   "source": [
    "# Exercise 9 - Create a code cell to convert minutes to hours. (2 pts)\n",
    "\n",
    "minutes = 150\n",
    "hours = minutes // 60\n",
    "remaining_minutes = minutes % 60\n",
    "print(f\"{hours}h {remaining_minutes}m\")  # Output: 2h 30m"
   ]
  },
  {
   "cell_type": "code",
   "execution_count": 20,
   "id": "f1b34f96",
   "metadata": {},
   "outputs": [
    {
     "data": {
      "text/plain": [
       "'\\nObjectives:\\n- List data science languages\\n- Summarize key libraries\\n- Demonstrate arithmetic operations\\n'"
      ]
     },
     "execution_count": 20,
     "metadata": {},
     "output_type": "execute_result"
    }
   ],
   "source": [
    "# Exercise 10 -Insert a markdown cell to list Objectives. (3 pts)\n",
    "\n",
    "'''\n",
    "Objectives:\n",
    "- List data science languages\n",
    "- Summarize key libraries\n",
    "- Demonstrate arithmetic operations\n",
    "'''"
   ]
  },
  {
   "cell_type": "code",
   "execution_count": 21,
   "id": "2e3aa2dd",
   "metadata": {},
   "outputs": [],
   "source": [
    "# Exercise 11 - Create a markdown cell to indicate the Author’s name. (2 pts)\n",
    "\n",
    "# **Author:** Nilay Kanire"
   ]
  },
  {
   "cell_type": "code",
   "execution_count": null,
   "id": "1009124b",
   "metadata": {},
   "outputs": [],
   "source": []
  },
  {
   "cell_type": "code",
   "execution_count": null,
   "id": "8a8f9903",
   "metadata": {},
   "outputs": [],
   "source": []
  },
  {
   "cell_type": "code",
   "execution_count": null,
   "id": "40611321",
   "metadata": {},
   "outputs": [],
   "source": []
  },
  {
   "cell_type": "code",
   "execution_count": null,
   "id": "e0c6cc3b",
   "metadata": {},
   "outputs": [],
   "source": []
  },
  {
   "cell_type": "code",
   "execution_count": null,
   "id": "c1881aeb",
   "metadata": {},
   "outputs": [],
   "source": []
  },
  {
   "cell_type": "code",
   "execution_count": null,
   "id": "f967f6b5",
   "metadata": {},
   "outputs": [],
   "source": []
  },
  {
   "cell_type": "code",
   "execution_count": null,
   "id": "a667bbbd",
   "metadata": {},
   "outputs": [],
   "source": []
  },
  {
   "cell_type": "code",
   "execution_count": null,
   "id": "2bdef106",
   "metadata": {},
   "outputs": [],
   "source": []
  },
  {
   "cell_type": "code",
   "execution_count": null,
   "id": "dac51e98",
   "metadata": {},
   "outputs": [],
   "source": []
  },
  {
   "cell_type": "code",
   "execution_count": null,
   "id": "92f23532",
   "metadata": {},
   "outputs": [],
   "source": []
  }
 ],
 "metadata": {
  "kernelspec": {
   "display_name": "Python 3 (ipykernel)",
   "language": "python",
   "name": "python3"
  },
  "language_info": {
   "codemirror_mode": {
    "name": "ipython",
    "version": 3
   },
   "file_extension": ".py",
   "mimetype": "text/x-python",
   "name": "python",
   "nbconvert_exporter": "python",
   "pygments_lexer": "ipython3",
   "version": "3.9.7"
  }
 },
 "nbformat": 4,
 "nbformat_minor": 5
}
